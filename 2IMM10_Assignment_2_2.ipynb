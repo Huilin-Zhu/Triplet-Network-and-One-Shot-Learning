{
 "cells": [
  {
   "cell_type": "markdown",
   "metadata": {
    "colab_type": "text",
    "id": "uj4T8PEHGbMF"
   },
   "source": [
    "# Assignment 2"
   ]
  },
  {
   "cell_type": "markdown",
   "metadata": {
    "colab_type": "text",
    "id": "p-gkaM1tCThc"
   },
   "source": [
    "***\n",
    "## Question 2: Triplet networks & one-shot learning (10pt)\n",
    "\n",
    "In practice 4b.4, we train a Siamese network for one-shot learning task on the Omniglot dataset.  In this assignment, we will work on the same data set with the same task but extend it to triplet networks, we will also compare our model performance under different triplet selection method. The assignment contains the following 4 tasks"
   ]
  },
  {
   "cell_type": "markdown",
   "metadata": {
    "colab_type": "text",
    "id": "ZqdQgnI5AuN5"
   },
   "source": [
    "### Import packages and mount data\n",
    "Before everything, we need to import packages and mount data,\n",
    "*HINT: you could use the dataset in practice 4b.4 directly*"
   ]
  },
  {
   "cell_type": "code",
   "execution_count": 0,
   "metadata": {
    "colab": {},
    "colab_type": "code",
    "id": "8QdDDUEIAuN6"
   },
   "outputs": [],
   "source": [
    "import tensorflow as tf\n",
    "from tensorflow.keras import backend as K\n",
    "from tensorflow.keras.layers import Input, Conv2D, Lambda, Dense, Flatten, MaxPooling2D, Dropout,Concatenate, BatchNormalization\n",
    "from tensorflow.keras.models import Model, Sequential\n",
    "from tensorflow.keras.regularizers import l2\n",
    "from tensorflow.keras.optimizers import Adam\n",
    "from tensorflow.keras.losses import binary_crossentropy\n",
    "import numpy as np\n",
    "import os\n",
    "import pickle\n",
    "import matplotlib.pyplot as plt\n",
    "from sklearn.utils import shuffle"
   ]
  },
  {
   "cell_type": "code",
   "execution_count": 154,
   "metadata": {
    "colab": {
     "base_uri": "https://localhost:8080/",
     "height": 54
    },
    "colab_type": "code",
    "executionInfo": {
     "elapsed": 4358,
     "status": "ok",
     "timestamp": 1590709742565,
     "user": {
      "displayName": "H Z",
      "photoUrl": "https://lh4.googleusercontent.com/-EsjkAJFjGw8/AAAAAAAAAAI/AAAAAAAAAC0/NqilCRtJswU/s64/photo.jpg",
      "userId": "18116773512831210086"
     },
     "user_tz": -120
    },
    "id": "YzhGJvL2A7aL",
    "outputId": "a3052c41-15a3-431e-8990-8e46158343fb"
   },
   "outputs": [
    {
     "name": "stdout",
     "output_type": "stream",
     "text": [
      "mkdir: cannot create directory ‘drive’: File exists\n",
      "Drive already mounted at drive; to attempt to forcibly remount, call drive.mount(\"drive\", force_remount=True).\n"
     ]
    }
   ],
   "source": [
    "# mount the data needed to drive folder so we can use them in colab, see the data download link in Practical 4a.1\n",
    "from google.colab import drive\n",
    "!mkdir drive\n",
    "drive.mount('drive')"
   ]
  },
  {
   "cell_type": "code",
   "execution_count": 155,
   "metadata": {
    "colab": {
     "base_uri": "https://localhost:8080/",
     "height": 168
    },
    "colab_type": "code",
    "executionInfo": {
     "elapsed": 1406,
     "status": "ok",
     "timestamp": 1590709751130,
     "user": {
      "displayName": "H Z",
      "photoUrl": "https://lh4.googleusercontent.com/-EsjkAJFjGw8/AAAAAAAAAAI/AAAAAAAAAC0/NqilCRtJswU/s64/photo.jpg",
      "userId": "18116773512831210086"
     },
     "user_tz": -120
    },
    "id": "NEy5u5WBAuN_",
    "outputId": "dd361c38-63c9-4103-9bf3-4ad0f4c19f89"
   },
   "outputs": [
    {
     "name": "stdout",
     "output_type": "stream",
     "text": [
      "X_train shape: (964, 20, 105, 105)\n",
      "X_test shape: (659, 20, 105, 105)\n",
      "\n",
      "training alphabets\n",
      "['Braille', 'Anglo-Saxon_Futhorc', 'Tifinagh', 'Grantha', 'Burmese_(Myanmar)', 'Mkhedruli_(Georgian)', 'Latin', 'Ojibwe_(Canadian_Aboriginal_Syllabics)', 'Balinese', 'Malay_(Jawi_-_Arabic)', 'Early_Aramaic', 'Korean', 'Japanese_(hiragana)', 'Armenian', 'Cyrillic', 'Hebrew', 'Syriac_(Estrangelo)', 'Japanese_(katakana)', 'Blackfoot_(Canadian_Aboriginal_Syllabics)', 'N_Ko', 'Alphabet_of_the_Magi', 'Inuktitut_(Canadian_Aboriginal_Syllabics)', 'Greek', 'Bengali', 'Tagalog', 'Futurama', 'Arcadian', 'Gujarati', 'Asomtavruli_(Georgian)', 'Sanskrit']\n",
      "test alphabets:\n",
      "['ULOG', 'Atemayar_Qelisayer', 'Ge_ez', 'Gurmukhi', 'Tengwar', 'Keble', 'Malayalam', 'Oriya', 'Kannada', 'Mongolian', 'Angelic', 'Atlantean', 'Syriac_(Serto)', 'Aurek-Besh', 'Avesta', 'Glagolitic', 'Sylheti', 'Tibetan', 'Manipuri', 'Old_Church_Slavonic_(Cyrillic)']\n"
     ]
    }
   ],
   "source": [
    "PATH = os.path.join(\"drive\",\"My Drive\",\"Colab Notebooks\",\"DeepLearning\",\"Assignment2\", \"omniglot\")\n",
    "\n",
    "with open(os.path.join(PATH, \"omniglot_train.p\"), \"rb\") as f:\n",
    "    (X_train, c_train) = pickle.load(f)\n",
    "\n",
    "with open(os.path.join(PATH, \"omniglot_test.p\"), \"rb\") as f:\n",
    "    (X_test, c_test) = pickle.load(f)\n",
    "\n",
    "print(\"X_train shape:\", X_train.shape)\n",
    "print(\"X_test shape:\", X_test.shape)\n",
    "print(\"\")\n",
    "print(\"training alphabets\")\n",
    "print([key for key in c_train.keys()])\n",
    "print(\"test alphabets:\")\n",
    "print([key for key in c_test.keys()])"
   ]
  },
  {
   "cell_type": "markdown",
   "metadata": {
    "colab_type": "text",
    "id": "QP79HYQrXD2k"
   },
   "source": [
    "### Task 2.1: Build  the triplet network (3pt)"
   ]
  },
  {
   "cell_type": "markdown",
   "metadata": {
    "colab_type": "text",
    "id": "1WHpL8iHAuOH"
   },
   "source": [
    "We will define a triplet Network for use with the Omniglot dataset. Each branch of the triplet  is a \"convnet\" model that transforms data to an embeddings space. \n",
    "\n",
    "*HINT: you may need \"Concatenate\" from keras.layer to merge the output layer*"
   ]
  },
  {
   "cell_type": "code",
   "execution_count": 156,
   "metadata": {
    "colab": {
     "base_uri": "https://localhost:8080/",
     "height": 1000
    },
    "colab_type": "code",
    "executionInfo": {
     "elapsed": 1276,
     "status": "ok",
     "timestamp": 1590709754509,
     "user": {
      "displayName": "H Z",
      "photoUrl": "https://lh4.googleusercontent.com/-EsjkAJFjGw8/AAAAAAAAAAI/AAAAAAAAAC0/NqilCRtJswU/s64/photo.jpg",
      "userId": "18116773512831210086"
     },
     "user_tz": -120
    },
    "id": "GQNaMa8hXD2l",
    "outputId": "aa9f3fd1-1342-44df-c14a-520954f7c3c6"
   },
   "outputs": [
    {
     "name": "stdout",
     "output_type": "stream",
     "text": [
      "Model: \"sequential_9\"\n",
      "_________________________________________________________________\n",
      "Layer (type)                 Output Shape              Param #   \n",
      "=================================================================\n",
      "conv2d_36 (Conv2D)           (None, 96, 96, 64)        6464      \n",
      "_________________________________________________________________\n",
      "max_pooling2d_27 (MaxPooling (None, 48, 48, 64)        0         \n",
      "_________________________________________________________________\n",
      "batch_normalization_36 (Batc (None, 48, 48, 64)        256       \n",
      "_________________________________________________________________\n",
      "dropout_36 (Dropout)         (None, 48, 48, 64)        0         \n",
      "_________________________________________________________________\n",
      "conv2d_37 (Conv2D)           (None, 42, 42, 128)       401536    \n",
      "_________________________________________________________________\n",
      "max_pooling2d_28 (MaxPooling (None, 21, 21, 128)       0         \n",
      "_________________________________________________________________\n",
      "batch_normalization_37 (Batc (None, 21, 21, 128)       512       \n",
      "_________________________________________________________________\n",
      "dropout_37 (Dropout)         (None, 21, 21, 128)       0         \n",
      "_________________________________________________________________\n",
      "conv2d_38 (Conv2D)           (None, 18, 18, 128)       262272    \n",
      "_________________________________________________________________\n",
      "max_pooling2d_29 (MaxPooling (None, 9, 9, 128)         0         \n",
      "_________________________________________________________________\n",
      "batch_normalization_38 (Batc (None, 9, 9, 128)         512       \n",
      "_________________________________________________________________\n",
      "dropout_38 (Dropout)         (None, 9, 9, 128)         0         \n",
      "_________________________________________________________________\n",
      "conv2d_39 (Conv2D)           (None, 6, 6, 256)         524544    \n",
      "_________________________________________________________________\n",
      "flatten_9 (Flatten)          (None, 9216)              0         \n",
      "_________________________________________________________________\n",
      "batch_normalization_39 (Batc (None, 9216)              36864     \n",
      "_________________________________________________________________\n",
      "dropout_39 (Dropout)         (None, 9216)              0         \n",
      "_________________________________________________________________\n",
      "dense_9 (Dense)              (None, 4096)              37752832  \n",
      "=================================================================\n",
      "Total params: 38,985,792\n",
      "Trainable params: 38,966,720\n",
      "Non-trainable params: 19,072\n",
      "_________________________________________________________________\n",
      "Model: \"model_18\"\n",
      "__________________________________________________________________________________________________\n",
      "Layer (type)                    Output Shape         Param #     Connected to                     \n",
      "==================================================================================================\n",
      "input_19 (InputLayer)           [(None, 105, 105, 1) 0                                            \n",
      "__________________________________________________________________________________________________\n",
      "input_20 (InputLayer)           [(None, 105, 105, 1) 0                                            \n",
      "__________________________________________________________________________________________________\n",
      "sequential_9 (Sequential)       (None, 4096)         38985792    input_19[0][0]                   \n",
      "                                                                 input_20[0][0]                   \n",
      "__________________________________________________________________________________________________\n",
      "lambda_82 (Lambda)              (None,)              0           sequential_9[1][0]               \n",
      "                                                                 sequential_9[2][0]               \n",
      "==================================================================================================\n",
      "Total params: 38,985,792\n",
      "Trainable params: 38,966,720\n",
      "Non-trainable params: 19,072\n",
      "__________________________________________________________________________________________________\n"
     ]
    }
   ],
   "source": [
    "# define a convnet model to transforms data to an embeddings space. \n",
    "# === COMPLETE CODE BELOW ===\n",
    "input_shape = (105, 105, 1)\n",
    "left_input = Input(input_shape)  #input(shape) creates a tensor of this shape, mimic the 2 input images\n",
    "right_input = Input(input_shape)\n",
    "\n",
    "convnet = Sequential()\n",
    "convnet.add(Conv2D(64, (10,10), activation='relu', input_shape=input_shape, kernel_regularizer=l2(2e-4)))\n",
    "convnet.add(MaxPooling2D())\n",
    "convnet.add(BatchNormalization())\n",
    "convnet.add(Dropout(0.25))\n",
    "convnet.add(Conv2D(128, (7,7), activation='relu', kernel_regularizer=l2(2e-4)))\n",
    "convnet.add(MaxPooling2D())\n",
    "convnet.add(BatchNormalization())\n",
    "convnet.add(Dropout(0.25))\n",
    "convnet.add(Conv2D(128, (4,4), activation='relu', kernel_regularizer=l2(2e-4)))\n",
    "convnet.add(MaxPooling2D())\n",
    "convnet.add(BatchNormalization())\n",
    "convnet.add(Dropout(0.25))\n",
    "convnet.add(Conv2D(256, (4,4), activation='relu', kernel_regularizer=l2(2e-4)))\n",
    "convnet.add(Flatten())\n",
    "convnet.add(BatchNormalization())\n",
    "convnet.add(Dropout(0.25))\n",
    "convnet.add(Dense(4096, activation=\"sigmoid\", kernel_regularizer=l2(1e-3)))\n",
    "convnet.summary()\n",
    "\n",
    "# encode each of the two inputs into a vector with the convnet\n",
    "encoded_l = convnet(left_input)\n",
    "encoded_r = convnet(right_input)\n",
    "\n",
    "# merge two encoded inputs with the L1 distance between them, and connect to prediction output layer\n",
    "\n",
    "L2_distance2 = lambda x: K.sum(K.square(x[0]-x[1]), axis=1)\n",
    "distance = Lambda(L2_distance2)([encoded_l, encoded_r]) #L1 difference between each pair of neuron of encoded_r and encoded_l (4096 values)\n",
    "siamese_net = Model(inputs=[left_input,right_input], outputs=distance)\n",
    "\n",
    "\n",
    "# siamese_net.compile(loss=\"binary_crossentropy\", optimizer=\"adam\")\n",
    "\n",
    "siamese_net.summary()"
   ]
  },
  {
   "cell_type": "code",
   "execution_count": 157,
   "metadata": {
    "colab": {
     "base_uri": "https://localhost:8080/",
     "height": 466
    },
    "colab_type": "code",
    "executionInfo": {
     "elapsed": 1950,
     "status": "ok",
     "timestamp": 1590709765990,
     "user": {
      "displayName": "H Z",
      "photoUrl": "https://lh4.googleusercontent.com/-EsjkAJFjGw8/AAAAAAAAAAI/AAAAAAAAAC0/NqilCRtJswU/s64/photo.jpg",
      "userId": "18116773512831210086"
     },
     "user_tz": -120
    },
    "id": "RXVuWeCsAuOI",
    "outputId": "d86c6b40-2c28-447e-d740-939463d59979"
   },
   "outputs": [
    {
     "name": "stdout",
     "output_type": "stream",
     "text": [
      "Model: \"model_19\"\n",
      "__________________________________________________________________________________________________\n",
      "Layer (type)                    Output Shape         Param #     Connected to                     \n",
      "==================================================================================================\n",
      "input (InputLayer)              [(None, 3, 105, 105, 0                                            \n",
      "__________________________________________________________________________________________________\n",
      "lambda_83 (Lambda)              (None, 105, 105, 1)  0           input[0][0]                      \n",
      "__________________________________________________________________________________________________\n",
      "lambda_84 (Lambda)              (None, 105, 105, 1)  0           input[0][0]                      \n",
      "__________________________________________________________________________________________________\n",
      "lambda_85 (Lambda)              (None, 105, 105, 1)  0           input[0][0]                      \n",
      "__________________________________________________________________________________________________\n",
      "sequential_9 (Sequential)       (None, 4096)         38985792    lambda_83[0][0]                  \n",
      "                                                                 lambda_84[0][0]                  \n",
      "                                                                 lambda_85[0][0]                  \n",
      "__________________________________________________________________________________________________\n",
      "concatenate_11 (Concatenate)    (None, 12288)        0           sequential_9[3][0]               \n",
      "                                                                 sequential_9[4][0]               \n",
      "                                                                 sequential_9[5][0]               \n",
      "==================================================================================================\n",
      "Total params: 38,985,792\n",
      "Trainable params: 38,966,720\n",
      "Non-trainable params: 19,072\n",
      "__________________________________________________________________________________________________\n"
     ]
    }
   ],
   "source": [
    "# define a Triplet network\n",
    "\n",
    "# The anchor, positive, negative image are merged together, called generated, as the input of the triplet network, then got split to get each one's neural codes.\n",
    "# input(shape) generates a tensor of this shape\n",
    "generated = Input(shape=(3,105, 105, 1), name='input')\n",
    "\n",
    "# lambda x: x[:,0] means give me an input x, in this case the input is generated, I will return you x[:,0] ie column 0\n",
    "# here, it is dividing the generated into anchor image, pos image and neg image\n",
    "anchor  = Lambda(lambda x: x[:,0])(generated)\n",
    "pos     = Lambda(lambda x: x[:,1])(generated)\n",
    "neg     = Lambda(lambda x: x[:,2])(generated)\n",
    "                    \n",
    "\n",
    "anchor_embedding    = convnet(anchor)\n",
    "pos_embedding       = convnet(pos)\n",
    "neg_embedding       = convnet(neg)  \n",
    "\n",
    "# merge the anchor, positive, negative embedding together, \n",
    "# let the merged layer be the output of triplet network\n",
    "\n",
    "# === COMPLETE CODE BELOW ===\n",
    "\n",
    "merged_output = Concatenate(axis=1)([anchor_embedding, pos_embedding, neg_embedding])\n",
    "\n",
    "triplet_net = Model(inputs=generated, outputs=merged_output)\n",
    "triplet_net.compile(loss=triplet_loss, optimizer=\"adam\")\n",
    "triplet_net.summary()"
   ]
  },
  {
   "cell_type": "markdown",
   "metadata": {
    "colab_type": "text",
    "id": "A-XyrIANAuOM"
   },
   "source": [
    "### Task 2.2: Define triplet loss (2pt)\n",
    "\n",
    "You can find the formula of the triplet loss function in our lecture note. \n",
    "\n",
    "*HINT: you can play with the margin value to get better model performance*"
   ]
  },
  {
   "cell_type": "code",
   "execution_count": 0,
   "metadata": {
    "colab": {},
    "colab_type": "code",
    "id": "mZ3v2Z0RAuON"
   },
   "outputs": [],
   "source": [
    "# Notice that the ground truth variable is not used for loss calculation. \n",
    "# It is used as a function argument to by-pass some Keras functionality.\n",
    "# This is because the network structure already implies the ground truth for the anchor image with the \"positive\" image.\n",
    "import tensorflow as tf\n",
    "def triplet_loss(ground_truth, network_output):\n",
    "    \n",
    "    alpha = 1\n",
    "\n",
    "    anchor, positive, negative = tf.split(network_output, num_or_size_splits=3, axis=1)        \n",
    "    \n",
    "    # === COMPLETE CODE BELOW ===\n",
    "    L2_distance2 = lambda x: K.sum(K.square(x[0]-x[1]), axis=1)\n",
    "    pos_anchor = Lambda(L2_distance2)([positive, anchor])\n",
    "    neg_anchor = Lambda(L2_distance2)([negative, anchor])\n",
    "\n",
    "    loss = K.mean(K.maximum(pos_anchor - neg_anchor + alpha, 0))\n",
    " \n",
    "    return loss\n"
   ]
  },
  {
   "cell_type": "markdown",
   "metadata": {
    "colab_type": "text",
    "id": "H7Wo8uzTXD2v"
   },
   "source": [
    "### Task 2.3: Select triplets for training (3pt)"
   ]
  },
  {
   "cell_type": "markdown",
   "metadata": {
    "colab_type": "text",
    "id": "tSSr9IzTAuOX"
   },
   "source": [
    "#### Different  selection method\n",
    "\n",
    "We have two different options for the triplet selection method, and we will compare the model performance under these two methods after building our model.\n",
    "\n",
    "(1) Random  triplets selection, including the following steps:\n",
    "* Pick one random class for anchor\n",
    "* Pick two different random picture for this class, as the anchor and positive images\n",
    "* Pick another class for Negative, different from anchor_class\n",
    "* Pick one random picture from the negative class.\n",
    "\n",
    "(2) Hard triplets selection. For easy implement, for a picked anchor, positive pair, we will choose the hardest negative to form a hard triplet, that means, after picking an anchor, positive image, we will choose the negative image which is nearest from anchor image from a negative class, ie: \"- d(a,n)\"  can get the maximum value. The whole process including the following steps:\n",
    "* Pick one random class for anchor\n",
    "* Pick two different random picture for this class, as an anchor and positive images\n",
    "* Pick another class for negative, different from anchor_class\n",
    "* Pick one hardest picture from the negative class.\n",
    "\n",
    "*HINT: when picking the hardest negative, you may need the model.predict to get the embedding of images, the calculate the distances*"
   ]
  },
  {
   "cell_type": "code",
   "execution_count": 0,
   "metadata": {
    "colab": {},
    "colab_type": "code",
    "id": "wxn3RqVrVBwL"
   },
   "outputs": [],
   "source": [
    "# Notice that the returned  1 * np.zeros(batch_size) is to by-pass some Keras functionality, corresponding to ground_truth in tripletloss\n",
    "# We use a variable hard_selection to control which method we are going to use. If we set hard_selection == False, we will select triplets random,If we set the variable hard_selection == True, we will select hard triplets.\n",
    "\n",
    "# === COMPLETE CODE BELOW === \n",
    "def get_batch(X, batch_size, hard_selection=True):\n",
    "\n",
    "  while True:\n",
    "\n",
    "    # targets = np.zeros(batch_size)\n",
    "    # targets[batch_size//2:] = 1\n",
    "    \n",
    "    n_classes, n_examples, w, h = X.shape\n",
    "\n",
    "    # initialize result\n",
    "    triplets=[]\n",
    "\n",
    "    for i in range(batch_size): #for each batch\n",
    "        triplet = [[],[],[]]\n",
    "        #Pick one random class for anchor\n",
    "        anchor_class = np.random.randint(0, n_classes)\n",
    "\n",
    "        #Pick two different random pics from this class => idx_A and idx_P\n",
    "        [idx_A,idx_P] = np.random.choice(n_examples,size=2,replace=False)  #pick two random numbers from  (0,..,n_examples-1)\n",
    "\n",
    "        #Pick another class for negative, different from anchor_class\n",
    "        # === COMPLETE CODE BELOW === \n",
    "        \n",
    "        # make a list from (0,n_classes) but does not contain the value anchor_class\n",
    "        a = np.arange(0, n_classes)\n",
    "        a = a[a != anchor_class]\n",
    "        \n",
    "        # negative class index\n",
    "        negative_class = np.random.choice(a, replace=False)\n",
    "\n",
    "        if not hard_selection:\n",
    "            #Pick a random pic from this negative class => N\n",
    "\n",
    "            # === COMPLETE CODE BELOW ===   \n",
    "            idx_N = np.random.choice(n_examples, size=1, replace=False)\n",
    "\n",
    "        else:\n",
    "            #Pick a hardest pic from this negative class => N\n",
    "            # === COMPLETE CODE BELOW === \n",
    "\n",
    "            #get the predicted\n",
    "            siamese_output_distance = siamese_net.predict([X[anchor_class].reshape(n_examples,w,h,1), X[negative_class].reshape(n_examples,w,h,1)])\n",
    "            idx_N = np.argmin(siamese_output_distance)\n",
    "\n",
    "\n",
    "\n",
    "        triplet[0] = X[anchor_class][idx_A].reshape(w, h, 1)\n",
    "        triplet[1] = X[anchor_class][idx_P].reshape(w, h, 1)\n",
    "        triplet[2]=  X[negative_class][idx_N].reshape(w, h, 1)\n",
    "        triplets.append(triplet) #for each sample, we get a triplet[1,2,3], and we appened this triplet to triplets\n",
    "\n",
    "\n",
    "    yield np.array(triplets), 1 * np.zeros(batch_size)"
   ]
  },
  {
   "cell_type": "markdown",
   "metadata": {
    "colab_type": "text",
    "id": "LP1oojLhXD2z"
   },
   "source": [
    "### Task 2.4: One-shot learning with different selection method (2pt)"
   ]
  },
  {
   "cell_type": "markdown",
   "metadata": {
    "colab_type": "text",
    "id": "XHGJp45AR1qm"
   },
   "source": [
    "Function \"make_oneshot_task\" that can randomly setup such a one-shot task from a given test set (if a language is specified, using only classes/characters from that language), i.e. it will generate N pairs of images, where the first image is always the test image, and the second image is one of the N reference images. The pair of images from the same class will have target 1, all other targets are 0.\n",
    "\n",
    "The function \"test_oneshot\" will generate a number (k) of such one-shot tasks and evaluate the performance of a given model on these tasks; it reports the percentage of correctly classified test images\n",
    "\n",
    "In \"test_oneshot\", you can use embeddings extracted from the triplet network with L2-distance to evaluate one-shot learning. i.e. for a given one-shot task, obtain embeddings for the test image as well as the support set. Then pick the image from the support set that is closest (in L2-distance) to the test image as your one-shot prediction.\n",
    "\n",
    "*HINT you can re-use some code from practice 4b.4*"
   ]
  },
  {
   "cell_type": "code",
   "execution_count": 0,
   "metadata": {
    "colab": {},
    "colab_type": "code",
    "id": "RBgoMDwMAuOh"
   },
   "outputs": [],
   "source": [
    "def make_oneshot_task(N, X, c, language=None):\n",
    "    \"\"\"Create pairs of (test image, support set image) with ground truth, for testing N-way one-shot learning.\"\"\"\n",
    "    n_classes, n_examples, w, h = X.shape\n",
    "    indices = np.random.randint(0, n_examples, size=(N,))\n",
    "    if language is not None:\n",
    "        low, high = c[language]\n",
    "        if N > high - low:\n",
    "            raise ValueError(\"This language ({}) has less than {} letters\".format(language, N))\n",
    "        categories = np.random.choice(range(low,high), size=(N,), replace=False)\n",
    "    else:  # if no language specified just pick a bunch of random letters\n",
    "        categories = np.random.choice(range(n_classes), size=(N,), replace=False)            \n",
    "    true_category = categories[0]\n",
    "    ex1, ex2 = np.random.choice(n_examples, replace=False, size=(2,))\n",
    "    test_image = np.asarray([X[true_category, ex1, :, :]]*N).reshape(N, w, h, 1)\n",
    "    support_set = X[categories, indices, :, :]\n",
    "    support_set[0, :, :] = X[true_category, ex2]\n",
    "    support_set = support_set.reshape(N, w, h, 1)\n",
    "    targets = np.zeros((N,))\n",
    "    targets[0] = 1\n",
    "    targets, test_image, support_set = shuffle(targets, test_image, support_set)\n",
    "    pairs = [test_image, support_set]\n",
    "    return pairs, targets\n"
   ]
  },
  {
   "cell_type": "code",
   "execution_count": 0,
   "metadata": {
    "colab": {},
    "colab_type": "code",
    "id": "rk5F3ffuAuOl"
   },
   "outputs": [],
   "source": [
    "def test_oneshot(model, X, c, N=20, k=250, language=None, verbose=True):\n",
    "    \"\"\"Test average N-way oneshot learning accuracy of a siamese neural net over k one-shot tasks.\"\"\"\n",
    "    n_correct = 0\n",
    "    if verbose:\n",
    "        print(\"Evaluating model on {} random {}-way one-shot learning tasks ...\".format(k, N))\n",
    "    for i in range(k):\n",
    "        pairs, targets = make_oneshot_task(N, X, c, language=language)\n",
    "        dist = model.predict(pairs) # the siamese_net model resturns the an array of distances each distance is a pair, N pairs total\n",
    "        # if the index of the maximum distance pair = index of the target is 1 pair, then it is correct\n",
    "        if np.argmin(dist) == np.argmax(targets): # np.argmax(a) Returns the indices of the maximum values of a\n",
    "            n_correct += 1\n",
    "    percent_correct = (100.0*n_correct / k)\n",
    "    if verbose:\n",
    "        print(\"Got an average of {}% accuracy for {}-way one-shot learning\".format(percent_correct, N))\n",
    "    return percent_correct"
   ]
  },
  {
   "cell_type": "markdown",
   "metadata": {
    "colab_type": "text",
    "id": "u6yMu4jlXD26"
   },
   "source": [
    "With different triplets selecting method (random and hard), we will train our model and evaluate the model by one-shot learning accuracy.\n",
    "\n",
    "* You need to explicitly state the accuracy under different  triplets selecting method\n",
    "* When evaluating model with test_oneshot function, you should evaluate on 20 way one-shot task, and set the number (k) of evaluation one-shot tasks to be 250, then calculate the average accuracy\n",
    "\n",
    "*HINT: After training our model with random selection method, before train model under hard triplets selection, we should re-build our model (re-run the cell in Task 2.1) to initialize our model and prevent re-use the trained model of random selection*"
   ]
  },
  {
   "cell_type": "markdown",
   "metadata": {
    "colab_type": "text",
    "id": "snKKGhIoXD27"
   },
   "source": [
    "#### Evaluate one-shot learning with  random triplets selection"
   ]
  },
  {
   "cell_type": "code",
   "execution_count": 161,
   "metadata": {
    "colab": {
     "base_uri": "https://localhost:8080/",
     "height": 896
    },
    "colab_type": "code",
    "executionInfo": {
     "elapsed": 771050,
     "status": "ok",
     "timestamp": 1590710587130,
     "user": {
      "displayName": "H Z",
      "photoUrl": "https://lh4.googleusercontent.com/-EsjkAJFjGw8/AAAAAAAAAAI/AAAAAAAAAC0/NqilCRtJswU/s64/photo.jpg",
      "userId": "18116773512831210086"
     },
     "user_tz": -120
    },
    "id": "e-r2qB5dAuOt",
    "outputId": "93075225-90d4-4081-b19a-9ffb54864e25"
   },
   "outputs": [
    {
     "name": "stdout",
     "output_type": "stream",
     "text": [
      "=== Training loop 1 ===\n",
      "100/100 [==============================] - 58s 582ms/step - loss: 21.3022\n",
      "Evaluating model on 250 random 20-way one-shot learning tasks ...\n",
      "Got an average of 50.4% accuracy for 20-way one-shot learning\n",
      "New best one-shot accuracy, saving model ...\n",
      "=== Training loop 2 ===\n",
      "100/100 [==============================] - 58s 581ms/step - loss: 22.7007\n",
      "Evaluating model on 250 random 20-way one-shot learning tasks ...\n",
      "Got an average of 56.4% accuracy for 20-way one-shot learning\n",
      "New best one-shot accuracy, saving model ...\n",
      "=== Training loop 3 ===\n",
      "100/100 [==============================] - 58s 580ms/step - loss: 19.9148\n",
      "Evaluating model on 250 random 20-way one-shot learning tasks ...\n",
      "Got an average of 62.4% accuracy for 20-way one-shot learning\n",
      "New best one-shot accuracy, saving model ...\n",
      "=== Training loop 4 ===\n",
      "100/100 [==============================] - 58s 581ms/step - loss: 20.0139\n",
      "Evaluating model on 250 random 20-way one-shot learning tasks ...\n",
      "Got an average of 66.0% accuracy for 20-way one-shot learning\n",
      "New best one-shot accuracy, saving model ...\n",
      "=== Training loop 5 ===\n",
      "100/100 [==============================] - 58s 579ms/step - loss: 19.4712\n",
      "Evaluating model on 250 random 20-way one-shot learning tasks ...\n",
      "Got an average of 61.6% accuracy for 20-way one-shot learning\n",
      "=== Training loop 6 ===\n",
      "100/100 [==============================] - 58s 580ms/step - loss: 18.6012\n",
      "Evaluating model on 250 random 20-way one-shot learning tasks ...\n",
      "Got an average of 68.8% accuracy for 20-way one-shot learning\n",
      "New best one-shot accuracy, saving model ...\n",
      "=== Training loop 7 ===\n",
      "100/100 [==============================] - 58s 580ms/step - loss: 18.5384\n",
      "Evaluating model on 250 random 20-way one-shot learning tasks ...\n",
      "Got an average of 70.8% accuracy for 20-way one-shot learning\n",
      "New best one-shot accuracy, saving model ...\n",
      "=== Training loop 8 ===\n",
      "100/100 [==============================] - 58s 579ms/step - loss: 18.6516\n",
      "Evaluating model on 250 random 20-way one-shot learning tasks ...\n",
      "Got an average of 67.6% accuracy for 20-way one-shot learning\n",
      "=== Training loop 9 ===\n",
      "100/100 [==============================] - 58s 578ms/step - loss: 18.2916\n",
      "Evaluating model on 250 random 20-way one-shot learning tasks ...\n",
      "Got an average of 68.4% accuracy for 20-way one-shot learning\n",
      "=== Training loop 10 ===\n",
      "100/100 [==============================] - 58s 579ms/step - loss: 17.9261\n",
      "Evaluating model on 250 random 20-way one-shot learning tasks ...\n",
      "Got an average of 75.6% accuracy for 20-way one-shot learning\n",
      "New best one-shot accuracy, saving model ...\n"
     ]
    }
   ],
   "source": [
    "# hard_selection == False, selcet triplets randomly\n",
    "# Train our model and evaluate the model by one-shot learning accuracy.\n",
    "batch_size = 100\n",
    "loops = 10\n",
    "best_acc = 0\n",
    "for i in range(loops):\n",
    "    print(\"=== Training loop {} ===\".format(i+1))\n",
    "    # === ADD CODE HERE ===\n",
    "    triplets = get_batch(X_train,batch_size,hard_selection=False)\n",
    "    triplet_net.fit(triplets, batch_size=64, steps_per_epoch=100, epochs=1)\n",
    "    test_acc = test_oneshot(siamese_net, X_test, c_test)\n",
    "    if test_acc >= best_acc:\n",
    "      print(\"New best one-shot accuracy, saving model ...\")\n",
    "      triplet_net.save(os.path.join(\"drive\",\"My Drive\",\"Colab Notebooks\",\"DeepLearning\",\"Assignment2\",\"models\", \"triplet_omniglot_random.h5\"))\n",
    "      best_acc = test_acc"
   ]
  },
  {
   "cell_type": "markdown",
   "metadata": {
    "colab_type": "text",
    "id": "kJfYapGfvWzU"
   },
   "source": [
    "The best accuracy occurs on loop 10, with an accuracy of 75.6%."
   ]
  },
  {
   "cell_type": "markdown",
   "metadata": {
    "colab_type": "text",
    "id": "YLlvr6TRXD2-"
   },
   "source": [
    "#### Evaluate one-shot learning with  hard triplets selection"
   ]
  },
  {
   "cell_type": "code",
   "execution_count": 0,
   "metadata": {
    "colab": {
     "base_uri": "https://localhost:8080/",
     "height": 821
    },
    "colab_type": "code",
    "executionInfo": {
     "elapsed": 7112279,
     "status": "ok",
     "timestamp": 1590709335003,
     "user": {
      "displayName": "H Z",
      "photoUrl": "https://lh4.googleusercontent.com/-EsjkAJFjGw8/AAAAAAAAAAI/AAAAAAAAAC0/NqilCRtJswU/s64/photo.jpg",
      "userId": "18116773512831210086"
     },
     "user_tz": -120
    },
    "id": "CN_IDkRHqjb5",
    "outputId": "a73d2c9a-e8d9-4a5b-c606-b096faf72e19"
   },
   "outputs": [
    {
     "name": "stdout",
     "output_type": "stream",
     "text": [
      "=== Training loop 1 ===\n",
      "100/100 [==============================] - 681s 7s/step - loss: 20.2091\n",
      "Evaluating model on 250 random 20-way one-shot learning tasks ...\n",
      "Got an average of 74.4% accuracy for 20-way one-shot learning\n",
      "New best one-shot accuracy, saving model ...\n",
      "=== Training loop 2 ===\n",
      "100/100 [==============================] - 682s 7s/step - loss: 20.7390\n",
      "Evaluating model on 250 random 20-way one-shot learning tasks ...\n",
      "Got an average of 78.8% accuracy for 20-way one-shot learning\n",
      "New best one-shot accuracy, saving model ...\n",
      "=== Training loop 3 ===\n",
      "100/100 [==============================] - 682s 7s/step - loss: 21.8830\n",
      "Evaluating model on 250 random 20-way one-shot learning tasks ...\n",
      "Got an average of 73.6% accuracy for 20-way one-shot learning\n",
      "=== Training loop 4 ===\n",
      "100/100 [==============================] - 681s 7s/step - loss: 21.6218\n",
      "Evaluating model on 250 random 20-way one-shot learning tasks ...\n",
      "Got an average of 74.8% accuracy for 20-way one-shot learning\n",
      "=== Training loop 5 ===\n",
      "100/100 [==============================] - 681s 7s/step - loss: 20.8181\n",
      "Evaluating model on 250 random 20-way one-shot learning tasks ...\n",
      "Got an average of 76.0% accuracy for 20-way one-shot learning\n",
      "=== Training loop 6 ===\n",
      "100/100 [==============================] - 681s 7s/step - loss: 21.1419\n",
      "Evaluating model on 250 random 20-way one-shot learning tasks ...\n",
      "Got an average of 78.4% accuracy for 20-way one-shot learning\n",
      "=== Training loop 7 ===\n",
      "100/100 [==============================] - 682s 7s/step - loss: 21.4331\n",
      "Evaluating model on 250 random 20-way one-shot learning tasks ...\n",
      "Got an average of 80.4% accuracy for 20-way one-shot learning\n",
      "New best one-shot accuracy, saving model ...\n",
      "=== Training loop 8 ===\n",
      "100/100 [==============================] - 680s 7s/step - loss: 20.3448\n",
      "Evaluating model on 250 random 20-way one-shot learning tasks ...\n",
      "Got an average of 79.2% accuracy for 20-way one-shot learning\n",
      "=== Training loop 9 ===\n",
      "100/100 [==============================] - 679s 7s/step - loss: 20.8172\n",
      "Evaluating model on 250 random 20-way one-shot learning tasks ...\n",
      "Got an average of 73.6% accuracy for 20-way one-shot learning\n",
      "=== Training loop 10 ===\n",
      "100/100 [==============================] - 678s 7s/step - loss: 19.8452\n",
      "Evaluating model on 250 random 20-way one-shot learning tasks ...\n",
      "Got an average of 66.8% accuracy for 20-way one-shot learning\n"
     ]
    }
   ],
   "source": [
    "# hard_selection == True, selcet hard triplets\n",
    "# Train our model and evaluate the model by one-shot learning accuracy.\n",
    "batch_size = 100\n",
    "loops = 10\n",
    "best_acc = 0\n",
    "for i in range(loops):\n",
    "    print(\"=== Training loop {} ===\".format(i+1))\n",
    "    # === ADD CODE HERE ===\n",
    "    triplets = get_batch(X_train,batch_size,hard_selection=True)\n",
    "    triplet_net.fit(triplets, batch_size=64, steps_per_epoch=100, epochs=1)\n",
    "    test_acc = test_oneshot(siamese_net, X_test, c_test)\n",
    "    if test_acc >= best_acc:\n",
    "      print(\"New best one-shot accuracy, saving model ...\")\n",
    "      triplet_net.save(os.path.join(\"drive\",\"My Drive\",\"Colab Notebooks\",\"DeepLearning\",\"Assignment2\",\"models\", \"triplet_omniglot_hard.h5\"))\n",
    "      best_acc = test_acc"
   ]
  },
  {
   "cell_type": "markdown",
   "metadata": {
    "colab_type": "text",
    "id": "Dj9Bt-lmqx8T"
   },
   "source": [
    "We think the model is overfitting from loop 8 and on. The best accuracy occurs at loop 7, with an accuracy of 80.4%. As we can see from the results, when we select triplets with the hardest negatives, the model performs 4.8% better in terms of best accuracy acheived."
   ]
  }
 ],
 "metadata": {
  "accelerator": "GPU",
  "colab": {
   "collapsed_sections": [],
   "name": "2IMM10_Assignment_2_2.ipynb",
   "provenance": []
  },
  "kernelspec": {
   "display_name": "Python 3",
   "language": "python",
   "name": "python3"
  },
  "language_info": {
   "codemirror_mode": {
    "name": "ipython",
    "version": 3
   },
   "file_extension": ".py",
   "mimetype": "text/x-python",
   "name": "python",
   "nbconvert_exporter": "python",
   "pygments_lexer": "ipython3",
   "version": "3.7.7"
  }
 },
 "nbformat": 4,
 "nbformat_minor": 1
}
